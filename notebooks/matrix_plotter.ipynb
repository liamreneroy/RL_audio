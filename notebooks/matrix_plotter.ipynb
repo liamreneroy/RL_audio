{
 "cells": [
  {
   "cell_type": "markdown",
   "id": "7785ea31-9160-471b-aed5-17efd3fc4cbf",
   "metadata": {
    "tags": []
   },
   "source": [
    "## Imports"
   ]
  },
  {
   "cell_type": "code",
   "execution_count": null,
   "id": "7eaa62a1-a074-4355-8a35-1d6e05402905",
   "metadata": {},
   "outputs": [],
   "source": [
    "%cd ~/Documents/PHD/repos/RL_audio/notebooks"
   ]
  },
  {
   "cell_type": "code",
   "execution_count": null,
   "id": "d6760df0-e9f9-4626-8510-160c83760e53",
   "metadata": {},
   "outputs": [],
   "source": [
    "import numpy as np\n",
    "import matplotlib.pyplot as plt\n",
    "import matplotlib.colors\n",
    "\n",
    "from matplotlib import cm\n",
    "from mpl_toolkits.mplot3d import Axes3D\n",
    "\n",
    "%matplotlib widget\n",
    "# %matplotlib inline\n",
    "# %matplotlib notebook\n",
    "\n",
    "# Try to use this website to use the explode feature, so we can see internal blocks and space everything out\n",
    "# https://terbium.io/2017/12/matplotlib-3d/ "
   ]
  },
  {
   "cell_type": "markdown",
   "id": "fc31af9d-9246-46ed-91ee-fd2d153f45e3",
   "metadata": {},
   "source": [
    "## Initializations"
   ]
  },
  {
   "cell_type": "code",
   "execution_count": null,
   "id": "ff3a3b05-da1c-44f4-8b07-296bd010111a",
   "metadata": {},
   "outputs": [],
   "source": [
    "user_ID_str = \"00\"\n",
    "load_file = \"lastsave\""
   ]
  },
  {
   "cell_type": "code",
   "execution_count": null,
   "id": "06c2a6ca-1ad4-49b9-a2d0-6bb22e730c4d",
   "metadata": {},
   "outputs": [],
   "source": [
    "st0_array = np.load(\"user_data/user_\" + user_ID_str + \"/arrays/\" + load_file + \"_st0.npy\")\n",
    "st1_array = np.load(\"user_data/user_\" + user_ID_str + \"/arrays/\" + load_file + \"_st1.npy\")\n",
    "st2_array = np.load(\"user_data/user_\" + user_ID_str + \"/arrays/\" + load_file + \"_st2.npy\")"
   ]
  },
  {
   "cell_type": "markdown",
   "id": "ec2a5d38-5e38-453b-81d3-48414c65ea4b",
   "metadata": {},
   "source": [
    "## Visualization of Arrays"
   ]
  },
  {
   "cell_type": "markdown",
   "id": "6e5921df-0e0b-42d7-9c5f-46f131b18ae1",
   "metadata": {
    "tags": []
   },
   "source": [
    "### Print Arrays"
   ]
  },
  {
   "cell_type": "code",
   "execution_count": null,
   "id": "70d6b2a3-80b6-4eae-8b04-56eabc758758",
   "metadata": {},
   "outputs": [],
   "source": [
    "print(st0_array.shape,\"\\n\")\n",
    "print(st0_array)"
   ]
  },
  {
   "cell_type": "code",
   "execution_count": null,
   "id": "45a4ed4d-76e5-42d5-92b2-8f0894400b7d",
   "metadata": {},
   "outputs": [],
   "source": [
    "print(st1_array.shape,\"\\n\")\n",
    "print(st1_array)"
   ]
  },
  {
   "cell_type": "code",
   "execution_count": null,
   "id": "475c2126-2ebb-4054-bfc6-ef2617822d6c",
   "metadata": {},
   "outputs": [],
   "source": [
    "print(st2_array.shape,\"\\n\")\n",
    "\n",
    "print(st2_array)"
   ]
  },
  {
   "cell_type": "markdown",
   "id": "a5256709-c1d0-459e-a86c-9dd87b29eb2a",
   "metadata": {},
   "source": [
    "### Plotter"
   ]
  },
  {
   "cell_type": "code",
   "execution_count": null,
   "id": "f04167b8-3e3e-47d6-b938-55701ed02f3d",
   "metadata": {},
   "outputs": [],
   "source": [
    "# STATE 0\n",
    "\n",
    "fig = plt.figure(figsize=(9, 9))\n",
    "ax = fig.add_subplot(projection='3d')\n",
    "ax.set_title(\"STATE 0 - PROGRESSING\", size=15)\n",
    "\n",
    "cmap = plt.get_cmap(\"RdYlGn\")\n",
    "norm= plt.Normalize(st0_array.min(), st0_array.max())\n",
    "\n",
    "filled = np.ones_like(st0_array)\n",
    "\n",
    "# Print the voxel cube\n",
    "cube = ax.voxels(filled, facecolors=cmap(norm(st0_array)), edgecolor=\"white\", alpha=0.75)\n",
    "\n",
    "# To get the colour bar (note scatter size is set to zero\n",
    "counter = range(3)\n",
    "x,y,z = np.meshgrid(counter, counter, counter)\n",
    "scatter_cube = ax.scatter(x,y,z, c=st0_array.flat, cmap=plt.get_cmap(\"RdYlGn\"), s=0, alpha=0.8, linewidths=2, edgecolors=\"black\", vmin=-10, vmax=10)\n",
    "cbar = fig.colorbar(scatter_cube, shrink=0.75, orientation=\"horizontal\", aspect=15, pad=0.05) # Add a color bar\n",
    "cbar.minorticks_on()\n",
    "\n",
    "ax.set_xticks([])\n",
    "# for minor ticks\n",
    "# ax.set_xticks([], minor=True)\n",
    "ax.set_yticks([])\n",
    "ax.set_zticks([])\n",
    "\n",
    "plt.tick_params(\n",
    "    axis='x',          # changes apply to the x-axis\n",
    "    which='both',      # both major and minor ticks are affected\n",
    "    bottom=False,      # ticks along the bottom edge are off\n",
    "    top=False,         # ticks along the top edge are off\n",
    "    labelbottom=True)\n",
    "\n",
    "ax.set_xlabel('0    -    1     -    2\\nBeat Per Min', size=15)\n",
    "ax.set_ylabel('0    -    1     -    2\\nBeat Per Loop', size=15)\n",
    "ax.set_zlabel('0    -    1     -    2\\nPitch Bend', size=15)\n",
    "\n",
    "plt.show()"
   ]
  },
  {
   "cell_type": "code",
   "execution_count": null,
   "id": "fe7a25f5-0037-46df-ab4a-88d9faa0afe0",
   "metadata": {},
   "outputs": [],
   "source": [
    "# STATE 1\n",
    "\n",
    "fig = plt.figure(figsize=(9, 9))\n",
    "ax = fig.add_subplot(projection='3d')\n",
    "ax.set_title(\"STATE 1 - SUCCESSFUL\", size=15)\n",
    "\n",
    "cmap = plt.get_cmap(\"RdYlGn\")\n",
    "norm= plt.Normalize(st1_array.min(), st1_array.max())\n",
    "\n",
    "filled = np.ones_like(st1_array)\n",
    "\n",
    "# Print the voxel cube\n",
    "cube = ax.voxels(filled, facecolors=cmap(norm(st1_array)), edgecolor=\"white\", alpha=0.75)\n",
    "\n",
    "# To get the colour bar (note scatter size is set to zero\n",
    "counter = range(3)\n",
    "x,y,z = np.meshgrid(counter, counter, counter)\n",
    "scatter_cube = ax.scatter(x,y,z, c=st1_array.flat, cmap=plt.get_cmap(\"RdYlGn\"), s=0, alpha=0.8, linewidths=2, edgecolors=\"black\", vmin=-10, vmax=10)\n",
    "cbar = fig.colorbar(scatter_cube, shrink=0.75, orientation=\"horizontal\", aspect=15, pad=0.05) # Add a color bar\n",
    "cbar.minorticks_on()\n",
    "\n",
    "ax.set_xticks([])\n",
    "# for minor ticks\n",
    "# ax.set_xticks([], minor=True)\n",
    "ax.set_yticks([])\n",
    "ax.set_zticks([])\n",
    "\n",
    "plt.tick_params(\n",
    "    axis='x',          # changes apply to the x-axis\n",
    "    which='both',      # both major and minor ticks are affected\n",
    "    bottom=False,      # ticks along the bottom edge are off\n",
    "    top=False,         # ticks along the top edge are off\n",
    "    labelbottom=True)\n",
    "\n",
    "ax.set_xlabel('0    -    1     -    2\\nBeat Per Min', size=15)\n",
    "ax.set_ylabel('0    -    1     -    2\\nBeat Per Loop', size=15)\n",
    "ax.set_zlabel('0    -    1     -    2\\nPitch Bend', size=15)\n",
    "\n",
    "plt.show()"
   ]
  },
  {
   "cell_type": "code",
   "execution_count": null,
   "id": "6f6c46ea-86cc-40e4-8f21-97f96074b1d2",
   "metadata": {},
   "outputs": [],
   "source": [
    "# STATE 2\n",
    "\n",
    "fig = plt.figure(figsize=(9, 9))\n",
    "ax = fig.add_subplot(projection='3d')\n",
    "ax.set_title(\"STATE 2 - STUCK\", size=15)\n",
    "\n",
    "cmap = plt.get_cmap(\"RdYlGn\")\n",
    "norm= plt.Normalize(st2_array.min(), st2_array.max())\n",
    "\n",
    "filled = np.ones_like(st2_array)\n",
    "\n",
    "# Print the voxel cube\n",
    "cube = ax.voxels(filled, facecolors=cmap(norm(st2_array)), edgecolor=\"white\", alpha=0.75)\n",
    "\n",
    "# To get the colour bar (note scatter size is set to zero\n",
    "counter = range(3)\n",
    "x,y,z = np.meshgrid(counter, counter, counter)\n",
    "scatter_cube = ax.scatter(x,y,z, c=st2_array.flat, cmap=plt.get_cmap(\"RdYlGn\"), s=0, alpha=0.8, linewidths=2, edgecolors=\"black\", vmin=-10, vmax=10)\n",
    "cbar = fig.colorbar(scatter_cube, shrink=0.75, orientation=\"horizontal\", aspect=15, pad=0.05) # Add a color bar\n",
    "cbar.minorticks_on()\n",
    "\n",
    "ax.set_xticks([])\n",
    "# for minor ticks\n",
    "# ax.set_xticks([], minor=True)\n",
    "ax.set_yticks([])\n",
    "ax.set_zticks([])\n",
    "\n",
    "plt.tick_params(\n",
    "    axis='x',          # changes apply to the x-axis\n",
    "    which='both',      # both major and minor ticks are affected\n",
    "    bottom=False,      # ticks along the bottom edge are off\n",
    "    top=False,         # ticks along the top edge are off\n",
    "    labelbottom=True)\n",
    "\n",
    "ax.set_xlabel('0    -    1     -    2\\nBeat Per Min', size=15)\n",
    "ax.set_ylabel('0    -    1     -    2\\nBeat Per Loop', size=15)\n",
    "ax.set_zlabel('0    -    1     -    2\\nPitch Bend', size=15)\n",
    "\n",
    "plt.show()"
   ]
  },
  {
   "cell_type": "markdown",
   "id": "32b75f8e-1231-4a79-be38-879d4f87357e",
   "metadata": {
    "tags": []
   },
   "source": [
    "### ARCHIVE"
   ]
  },
  {
   "cell_type": "code",
   "execution_count": null,
   "id": "ce29294c-0fba-474c-8586-973e7f2c503e",
   "metadata": {},
   "outputs": [],
   "source": [
    "# OLD SCATTER\n",
    "\n",
    "# import matplotlib.pyplot as plt\n",
    "# import numpy as np\n",
    "\n",
    "# from mpl_toolkits.mplot3d import Axes3D\n",
    "# M = st0_array\n",
    "# fig = plt.figure()\n",
    "# ax = fig.add_subplot(111, projection='3d')\n",
    "# counter = range(3)\n",
    "# x,y,z = np.meshgrid(counter, counter, counter)\n",
    "\n",
    "# scatter_cube = ax.scatter(x,y,z, c=M.flat, cmap=plt.get_cmap(\"RdYlGn\"), s=100, alpha=0.8, linewidths=2, edgecolors=\"black\", vmin=-10, vmax=10)\n",
    "# cbar = fig.colorbar(scatter_cube, shrink=0.6, aspect=5) # Add a color bar\n",
    "\n",
    "# plt.show()"
   ]
  },
  {
   "cell_type": "code",
   "execution_count": null,
   "id": "7fb27804-02bc-487b-91a7-ddc830822891",
   "metadata": {},
   "outputs": [],
   "source": []
  }
 ],
 "metadata": {
  "kernelspec": {
   "display_name": "Python 3 (ipykernel)",
   "language": "python",
   "name": "python3"
  },
  "language_info": {
   "codemirror_mode": {
    "name": "ipython",
    "version": 3
   },
   "file_extension": ".py",
   "mimetype": "text/x-python",
   "name": "python",
   "nbconvert_exporter": "python",
   "pygments_lexer": "ipython3",
   "version": "3.11.0"
  }
 },
 "nbformat": 4,
 "nbformat_minor": 5
}
