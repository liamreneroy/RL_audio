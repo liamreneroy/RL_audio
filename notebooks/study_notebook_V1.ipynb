{
 "cells": [
  {
   "cell_type": "markdown",
   "id": "874baada-b757-4a4b-b973-1672b287326f",
   "metadata": {},
   "source": [
    "# User Study 02 - RL Audio Notebook\n",
    "\n",
    "Add a bit of introduction text here, maybe a photo"
   ]
  },
  {
   "cell_type": "markdown",
   "id": "9e2cc91e-71da-4d55-81ed-a10848f4e6a8",
   "metadata": {
    "tags": []
   },
   "source": [
    "# Setup"
   ]
  },
  {
   "cell_type": "markdown",
   "id": "23022b2d-e155-48ac-b0fd-8a9aa00619a0",
   "metadata": {
    "tags": []
   },
   "source": [
    "## Imports & Args"
   ]
  },
  {
   "cell_type": "code",
   "execution_count": 1,
   "id": "b00ed503-2ddc-4628-9953-8bb78dfc39e9",
   "metadata": {},
   "outputs": [
    {
     "name": "stdout",
     "output_type": "stream",
     "text": [
      "/home/liamroy/Documents/PHD/repos/RL_audio/notebooks\n"
     ]
    }
   ],
   "source": [
    "%cd ~/Documents/PHD/repos/RL_audio/notebooks"
   ]
  },
  {
   "cell_type": "code",
   "execution_count": 2,
   "id": "810beac1-8c6f-422e-92c1-2bbe9e8f6fe4",
   "metadata": {},
   "outputs": [],
   "source": [
    "PWD = %pwd"
   ]
  },
  {
   "cell_type": "code",
   "execution_count": 5,
   "id": "1dd1d014-71ea-4649-a013-347682ce55dc",
   "metadata": {},
   "outputs": [],
   "source": [
    "# IMPORTS\n",
    "import os\n",
    "import shutil\n",
    "import time\n",
    "import numpy as np\n",
    "import time\n",
    "import argparse\n",
    "from scripts import audio_control\n",
    "from scripts import ucb1_algorithm as ucb1\n",
    "from scripts import misc_helpers as mischelp"
   ]
  },
  {
   "cell_type": "code",
   "execution_count": 6,
   "id": "efd326ce-7db0-464f-937c-fd0d468bcf01",
   "metadata": {},
   "outputs": [
    {
     "data": {
      "text/plain": [
       "_StoreAction(option_strings=['-l', '--load'], dest='load', nargs=None, const=None, default=None, type=None, choices=None, required=False, help='load Q-table from filename (dtype=str)', metavar=None)"
      ]
     },
     "execution_count": 6,
     "metadata": {},
     "output_type": "execute_result"
    }
   ],
   "source": [
    "argParser = argparse.ArgumentParser()\n",
    "\n",
    "# Enter any valid integer value\n",
    "argParser.add_argument(\"-b\", \"--budg\", required=False, help=\"select the budget value (dtype=int)\")\n",
    "\n",
    "# Enter a valid parameter discritization integer (must match sound library size)\n",
    "argParser.add_argument(\"-d\", \"--disc\", required=False, help=\"select discritization size (dtype=int)\")\n",
    "\n",
    "# Enter true if you would like to see hidden print log, including Q-tables\n",
    "argParser.add_argument(\"-p\", \"--prnt\", required=False, help=\"show hidden print log (dtype=bool)\")\n",
    "\n",
    "# To load and save, simply enter in the base filename such as \"lastsave\" or \"set_A\", system takes care of rest\n",
    "argParser.add_argument(\"-s\", \"--save\", required=False, help=\"filename to save Q-table on exit (dtype=str)\") \n",
    "argParser.add_argument(\"-l\", \"--load\", required=False, help=\"load Q-table from filename (dtype=str)\") \t\t"
   ]
  },
  {
   "cell_type": "markdown",
   "id": "6f9a1705-a32d-4cf4-88f7-9cf7a14a45bf",
   "metadata": {
    "tags": []
   },
   "source": [
    "## Initializations"
   ]
  },
  {
   "cell_type": "code",
   "execution_count": 7,
   "id": "154e1831-f178-463a-8e3c-6c5963a7de5d",
   "metadata": {},
   "outputs": [],
   "source": [
    "# number of total iterations \n",
    "budget = 50\n",
    "\n",
    "# Parameter discritization\n",
    "param_disc = 3 \n",
    "\n",
    "# whether or not to include print statements for hidden values\n",
    "printer = None\n",
    "\n",
    "# filename to save Q-table on exit\n",
    "save_file = \"lastsave\"\n",
    "\n",
    "# filename to load an existing Q-table\n",
    "load_file = None"
   ]
  },
  {
   "cell_type": "code",
   "execution_count": 8,
   "id": "894c6de3-9aef-42ae-bb33-8a48c08c79f9",
   "metadata": {},
   "outputs": [],
   "source": [
    "state_descriptions = [\"Progressing \\t- robot is working and doesn't need help\", \"Successful \\t- robot has completed it's task\", \"Stuck      \\t- robot needs your help\", \"None of the above\"]\n",
    "num_of_states = len(state_descriptions) - 1 # Adding a minus 1 since the last state in \"state_descriptions\" is \"none of the above\"\n",
    "state_range = np.arange(num_of_states)\n",
    "\n",
    "\n",
    "# CREATE SOUND LIBRARY A\n",
    "# For library A, setup the array using libA\n",
    "library_A = \"libA\"\n",
    "\n",
    "# Create an array of size (N x N x N) where N = number of discretized regions\n",
    "# number of discretized regions for each param --> i.e. if equals 3 then (0, 1, 2)\n",
    "# ** must align with the discretization for selected sound library\n",
    "sound_obj_array_A = np.ndarray((param_disc, param_disc, param_disc),dtype=object)\n",
    "\n",
    "for param_1_range in range(param_disc):\n",
    "\tfor param_2_range in range(param_disc):\n",
    "\t\tfor param_3_range in range(param_disc):\n",
    "\t\t\tsound_obj_array_A[param_1_range, param_2_range, param_3_range] = audio_control.audio_object(param_1_range, param_2_range, param_3_range, budget, library_A)\n",
    "            \n",
    "            \n",
    "# CREATE SOUND LIBRARY B\n",
    "# For library B, setup the array using libB\n",
    "library_B = \"libB\"\n",
    "\n",
    "# Create an array of size (N x N x N) where N = number of discretized regions\n",
    "# number of discretized regions for each param --> i.e. if equals 3 then (0, 1, 2)\n",
    "# ** must align with the discretization for selected sound library\n",
    "sound_obj_array_B = np.ndarray((param_disc, param_disc, param_disc),dtype=object)\n",
    "\n",
    "for param_1_range in range(param_disc):\n",
    "\tfor param_2_range in range(param_disc):\n",
    "\t\tfor param_3_range in range(param_disc):\n",
    "\t\t\tsound_obj_array_B[param_1_range, param_2_range, param_3_range] = audio_control.audio_object(param_1_range, param_2_range, param_3_range, budget, library_B)\n",
    "            "
   ]
  },
  {
   "cell_type": "markdown",
   "id": "0567c300-989f-40c8-b1be-69510f22ccab",
   "metadata": {
    "tags": []
   },
   "source": [
    "# Main Study"
   ]
  },
  {
   "cell_type": "markdown",
   "id": "0ecda1d0-d6cb-45e9-b2f2-158709277330",
   "metadata": {
    "tags": []
   },
   "source": [
    "## Section 1\n",
    "\n",
    "Start by entering your user ID..."
   ]
  },
  {
   "cell_type": "code",
   "execution_count": 10,
   "id": "87f50b0a-b88d-4d55-a9e8-dfd8e7bd1ab0",
   "metadata": {},
   "outputs": [
    {
     "name": "stdin",
     "output_type": "stream",
     "text": [
      "\n",
      "Please enter your double digiet user ID number (ex: 00 )\n",
      " 01\n"
     ]
    },
    {
     "name": "stdout",
     "output_type": "stream",
     "text": [
      "\n",
      "Directory 'user_data/user_01/arrays' created successfully\n",
      "\n",
      "\n",
      "\n",
      "------------------------------------------------------------------------\n",
      "------------------------------------------------------------------------\n",
      "Great job! You are user: 01\n",
      "\n",
      "Click on the next cell below and hit 'shift + enter' to continue\n",
      "------------------------------------------------------------------------\n",
      "------------------------------------------------------------------------\n",
      "\n",
      "\n",
      "\n"
     ]
    }
   ],
   "source": [
    "current_user_ID_str = mischelp.get_user_ID(parent_dir=PWD, num_of_states=num_of_states)"
   ]
  },
  {
   "cell_type": "markdown",
   "id": "0f673e96-a4a2-4cf1-83c4-ad32097ee0d8",
   "metadata": {},
   "source": [
    "### Section 1A"
   ]
  },
  {
   "cell_type": "code",
   "execution_count": 11,
   "id": "9b2b7585-4d7b-4110-bf9e-a9a98157462c",
   "metadata": {},
   "outputs": [
    {
     "name": "stdout",
     "output_type": "stream",
     "text": [
      "~~~~~~~~~~~~~~~~~~~~~~~~~~~~~~~~~~~~~~~~~~~~~~~~~~~~~~~~~~~~~~~~~~~~~~~~~\n",
      "initialized Q-table file: user_data/user_01/arrays/pilotset_st0.npy\n",
      "\n",
      "robot sound is playing....\n",
      "\n"
     ]
    },
    {
     "name": "stdin",
     "output_type": "stream",
     "text": [
      "What state is the robot in: \n",
      "[0]: Progressing \t- robot is working and doesn't need help \n",
      "[1]: Successful \t- robot has completed it's task \n",
      "[2]: Stuck      \t- robot needs your help \n",
      "[3]: None of the above \n",
      "\n",
      "Hit 'enter' to replay the sound...\n",
      "Select a state between [0 to 3]:\n",
      " 2\n"
     ]
    },
    {
     "name": "stdout",
     "output_type": "stream",
     "text": [
      "\n",
      "You entered: 2 --> state: Stuck      \t- robot needs your help\n",
      "\n"
     ]
    },
    {
     "name": "stdin",
     "output_type": "stream",
     "text": [
      "Hit 'enter' to replay the sound... \n",
      "Score your confidence in this response from [0 to 10]:  2\n"
     ]
    },
    {
     "name": "stdout",
     "output_type": "stream",
     "text": [
      "You entered: 2\n",
      "\n",
      "~~~~~~~~~~~~~~~~~~~~~~~~~~~~~~~~~~~~~~~~~~~~~~~~~~~~~~~~~~~~~~~~~~~~~~~~~\n",
      "initialized Q-table file: user_data/user_01/arrays/pilotset_st1.npy\n",
      "\n",
      "robot sound is playing....\n",
      "\n"
     ]
    },
    {
     "name": "stdin",
     "output_type": "stream",
     "text": [
      "What state is the robot in: \n",
      "[0]: Progressing \t- robot is working and doesn't need help \n",
      "[1]: Successful \t- robot has completed it's task \n",
      "[2]: Stuck      \t- robot needs your help \n",
      "[3]: None of the above \n",
      "\n",
      "Hit 'enter' to replay the sound...\n",
      "Select a state between [0 to 3]:\n",
      " 0\n"
     ]
    },
    {
     "name": "stdout",
     "output_type": "stream",
     "text": [
      "\n",
      "You entered: 0 --> state: Progressing \t- robot is working and doesn't need help\n",
      "\n"
     ]
    },
    {
     "name": "stdin",
     "output_type": "stream",
     "text": [
      "Hit 'enter' to replay the sound... \n",
      "Score your confidence in this response from [0 to 10]:  2\n"
     ]
    },
    {
     "name": "stdout",
     "output_type": "stream",
     "text": [
      "You entered: 2\n",
      "\n",
      "~~~~~~~~~~~~~~~~~~~~~~~~~~~~~~~~~~~~~~~~~~~~~~~~~~~~~~~~~~~~~~~~~~~~~~~~~\n",
      "initialized Q-table file: user_data/user_01/arrays/pilotset_st2.npy\n",
      "\n",
      "robot sound is playing....\n",
      "\n"
     ]
    },
    {
     "name": "stdin",
     "output_type": "stream",
     "text": [
      "What state is the robot in: \n",
      "[0]: Progressing \t- robot is working and doesn't need help \n",
      "[1]: Successful \t- robot has completed it's task \n",
      "[2]: Stuck      \t- robot needs your help \n",
      "[3]: None of the above \n",
      "\n",
      "Hit 'enter' to replay the sound...\n",
      "Select a state between [0 to 3]:\n",
      " 02\n"
     ]
    },
    {
     "name": "stdout",
     "output_type": "stream",
     "text": [
      "\n",
      "You entered: 2 --> state: Stuck      \t- robot needs your help\n",
      "\n"
     ]
    },
    {
     "name": "stdin",
     "output_type": "stream",
     "text": [
      "Hit 'enter' to replay the sound... \n",
      "Score your confidence in this response from [0 to 10]:  2\n"
     ]
    },
    {
     "name": "stdout",
     "output_type": "stream",
     "text": [
      "You entered: 2\n",
      "\n",
      "\n",
      "\n",
      "\n",
      "------------------------------------------------\n",
      "Great job!\n",
      "\n",
      "Click on the next cell below and hit 'shift + enter' to continue\n",
      "------------------------------------------------\n",
      "\n",
      "\n",
      "\n"
     ]
    }
   ],
   "source": [
    "mischelp.get_user_accuracy(sound_obj_array=sound_obj_array_A, lib_str=library_A, sect_str=\"sect1\", user_ID_str=current_user_ID_str, num_of_states=num_of_states, states_array=np.ndarray(num_of_states, dtype=object), \n",
    "                      state_descriptions=state_descriptions, param_disc=param_disc, load_file=\"pilotset\")"
   ]
  },
  {
   "cell_type": "markdown",
   "id": "cf7844b7-a8e3-45f8-89a5-8acf6c6d3a21",
   "metadata": {},
   "source": [
    "### Section 1B"
   ]
  },
  {
   "cell_type": "code",
   "execution_count": 12,
   "id": "d522dad9-f3fc-45c4-871c-39035dd2234c",
   "metadata": {},
   "outputs": [
    {
     "name": "stdout",
     "output_type": "stream",
     "text": [
      "~~~~~~~~~~~~~~~~~~~~~~~~~~~~~~~~~~~~~~~~~~~~~~~~~~~~~~~~~~~~~~~~~~~~~~~~~\n",
      "initialized Q-table file: user_data/user_01/arrays/pilotset_st0.npy\n",
      "\n",
      "robot sound is playing....\n",
      "\n"
     ]
    },
    {
     "name": "stdin",
     "output_type": "stream",
     "text": [
      "What state is the robot in: \n",
      "[0]: Progressing \t- robot is working and doesn't need help \n",
      "[1]: Successful \t- robot has completed it's task \n",
      "[2]: Stuck      \t- robot needs your help \n",
      "[3]: None of the above \n",
      "\n",
      "Hit 'enter' to replay the sound...\n",
      "Select a state between [0 to 3]:\n",
      " 1\n"
     ]
    },
    {
     "name": "stdout",
     "output_type": "stream",
     "text": [
      "\n",
      "You entered: 1 --> state: Successful \t- robot has completed it's task\n",
      "\n"
     ]
    },
    {
     "name": "stdin",
     "output_type": "stream",
     "text": [
      "Hit 'enter' to replay the sound... \n",
      "Score your confidence in this response from [0 to 10]:  1\n"
     ]
    },
    {
     "name": "stdout",
     "output_type": "stream",
     "text": [
      "You entered: 1\n",
      "\n",
      "~~~~~~~~~~~~~~~~~~~~~~~~~~~~~~~~~~~~~~~~~~~~~~~~~~~~~~~~~~~~~~~~~~~~~~~~~\n",
      "initialized Q-table file: user_data/user_01/arrays/pilotset_st1.npy\n",
      "\n",
      "robot sound is playing....\n",
      "\n"
     ]
    },
    {
     "name": "stdin",
     "output_type": "stream",
     "text": [
      "What state is the robot in: \n",
      "[0]: Progressing \t- robot is working and doesn't need help \n",
      "[1]: Successful \t- robot has completed it's task \n",
      "[2]: Stuck      \t- robot needs your help \n",
      "[3]: None of the above \n",
      "\n",
      "Hit 'enter' to replay the sound...\n",
      "Select a state between [0 to 3]:\n",
      " 1\n"
     ]
    },
    {
     "name": "stdout",
     "output_type": "stream",
     "text": [
      "\n",
      "You entered: 1 --> state: Successful \t- robot has completed it's task\n",
      "\n"
     ]
    },
    {
     "name": "stdin",
     "output_type": "stream",
     "text": [
      "Hit 'enter' to replay the sound... \n",
      "Score your confidence in this response from [0 to 10]:  1\n"
     ]
    },
    {
     "name": "stdout",
     "output_type": "stream",
     "text": [
      "You entered: 1\n",
      "\n",
      "~~~~~~~~~~~~~~~~~~~~~~~~~~~~~~~~~~~~~~~~~~~~~~~~~~~~~~~~~~~~~~~~~~~~~~~~~\n",
      "initialized Q-table file: user_data/user_01/arrays/pilotset_st2.npy\n",
      "\n",
      "robot sound is playing....\n",
      "\n"
     ]
    },
    {
     "name": "stdin",
     "output_type": "stream",
     "text": [
      "What state is the robot in: \n",
      "[0]: Progressing \t- robot is working and doesn't need help \n",
      "[1]: Successful \t- robot has completed it's task \n",
      "[2]: Stuck      \t- robot needs your help \n",
      "[3]: None of the above \n",
      "\n",
      "Hit 'enter' to replay the sound...\n",
      "Select a state between [0 to 3]:\n",
      " 2\n"
     ]
    },
    {
     "name": "stdout",
     "output_type": "stream",
     "text": [
      "\n",
      "You entered: 2 --> state: Stuck      \t- robot needs your help\n",
      "\n"
     ]
    },
    {
     "name": "stdin",
     "output_type": "stream",
     "text": [
      "Hit 'enter' to replay the sound... \n",
      "Score your confidence in this response from [0 to 10]:  2\n"
     ]
    },
    {
     "name": "stdout",
     "output_type": "stream",
     "text": [
      "You entered: 2\n",
      "\n",
      "\n",
      "\n",
      "\n",
      "------------------------------------------------\n",
      "Great job!\n",
      "\n",
      "Click on the next cell below and hit 'shift + enter' to continue\n",
      "------------------------------------------------\n",
      "\n",
      "\n",
      "\n"
     ]
    }
   ],
   "source": [
    "mischelp.get_user_accuracy(sound_obj_array=sound_obj_array_B, lib_str=library_B, sect_str=\"sect1\", user_ID_str=current_user_ID_str, num_of_states=num_of_states, states_array=np.ndarray(num_of_states, dtype=object), \n",
    "                      state_descriptions=state_descriptions, param_disc=param_disc, load_file=\"pilotset\")"
   ]
  },
  {
   "cell_type": "markdown",
   "id": "d05ca2de-78ed-4687-80e7-3b81400b4072",
   "metadata": {
    "tags": []
   },
   "source": [
    "## Section 2"
   ]
  },
  {
   "cell_type": "markdown",
   "id": "50631102-91eb-45e8-b7e9-f58f59cc15c1",
   "metadata": {},
   "source": [
    "### Section 2A"
   ]
  },
  {
   "cell_type": "markdown",
   "id": "36f87f4c-e025-4172-ae7d-16394478c344",
   "metadata": {
    "tags": []
   },
   "source": [
    "### Section 2B"
   ]
  },
  {
   "cell_type": "code",
   "execution_count": null,
   "id": "f9b20e8c-adf6-493d-8600-09997b176a00",
   "metadata": {},
   "outputs": [],
   "source": [
    "# Initialize time_step to zero\n",
    "time_step = 0\n",
    "load_file = None \n",
    "\n",
    "\n",
    "# Initialize to center of mapping\n",
    "param_1_idx = 1 \n",
    "param_2_idx = 1\n",
    "param_3_idx = 1\n",
    "\n",
    "states_array = np.ndarray(num_of_states, dtype=object)\n",
    "\n",
    "for state_idx in range(num_of_states):\n",
    "    states_array[state_idx] = ucb1.robot_state(state_idx, state_descriptions[state_idx], param_disc, load_file)\n",
    "\n",
    "for i in range(0, budget):\n",
    "\n",
    "    current_state_index = np.random.randint(0, 3) \t\t# Current actual state of the robot - change this to fluctuate during study\n",
    "\n",
    "    if time_step == 0:\n",
    "        param_1_idx = 1 \n",
    "        param_2_idx = 1\n",
    "        param_3_idx = 1\n",
    "    else:\n",
    "    # Select new params\n",
    "        param_1_idx, param_2_idx, param_3_idx = states_array[current_state_index].action_selection()\n",
    "\n",
    "    time_step += 1\n",
    "\n",
    "    print(\"\\n----------------------------------------------------------------\")\n",
    "    print(\"~~~~~~~~~~~~~~~~~~~~~~~~~~~~~~~~~~~~~~~~~~~~~~~~~~~~~~~~~~~~~~~~\")\n",
    "    print(\"----------------------------------------------------------------\\n\")\n",
    "\n",
    "    if printer:\n",
    "        print(\"(Hidden):\")\n",
    "        print(f\"Current actual state of robot: {current_state_index}\\n\")\n",
    "        print(f\"New Param INDICES (not direct values): \\nP1: {param_1_idx} (Beats per Minute - BPM) \\nP2: {param_2_idx} (Beeps per Loop - BPL) \\nP3: {param_3_idx} (Amplitude of Pitch Change)\\n\")\n",
    "\n",
    "\n",
    "    # Play the desired mp3 file, probe user based on sound, then update the Q-Value look-up table...\n",
    "\n",
    "    # Probe user for perceived state & confidence in their response\n",
    "    probed_state_index, probed_confidence = sound_obj_array_A[param_1_idx, param_2_idx, param_3_idx].probe(state_descriptions)\n",
    "\n",
    "    # Update N for audio obj\n",
    "    sound_obj_array_A[param_1_idx, param_2_idx, param_3_idx].update()\n",
    "\n",
    "    # Calculate uncertainty signal (U_t) based on N and time_step\n",
    "    uncertainty_signal = sound_obj_array_A[param_1_idx, param_2_idx, param_3_idx].uncertainty(time_step)\n",
    "\n",
    "    # For each state, calculate the respective reward signal (R)\n",
    "    for state_idx in range(num_of_states):\n",
    "\n",
    "        if probed_state_index == len(state_descriptions) - 1:\n",
    "            reward_signal = 0.0\n",
    "\n",
    "        else:\n",
    "            if probed_state_index == state_idx:\n",
    "                correct_multiplier = 1.0\n",
    "            elif probed_state_index != state_idx:\n",
    "                correct_multiplier = -1.0\n",
    "\n",
    "            # This is the reward signal R\n",
    "            reward_signal = correct_multiplier * probed_confidence\n",
    "\n",
    "        # Calculate new Q_t = {[(1 - 1/n) * Q_t-1] + [(1/n) * R]} + U_t   ~  UCB1 algorithm update equation\n",
    "        # Takes the mean of previously observed reward and new reward, adding on an uncertainty term\n",
    "        Q_value = ((1 - 1.0/sound_obj_array_A[param_1_idx, param_2_idx, param_3_idx].n) * states_array[state_idx].action_value_lookup[param_1_idx, param_2_idx, param_3_idx] + (1.0/sound_obj_array_A[param_1_idx, param_2_idx, param_3_idx].n) * reward_signal) + uncertainty_signal\n",
    "\n",
    "        # Update value in lookup table for state S with new Q_t\n",
    "        # Added an np.clip so that the mix/max Q-Value in the table cant exceed -10 to +10\n",
    "        states_array[state_idx].action_value_lookup[param_1_idx, param_2_idx, param_3_idx] = np.clip(Q_value, -10, 10)\n",
    "\n",
    "        if printer:\n",
    "            print(\"\\n\\n----------------------------------------------------------------\\n\")\n",
    "            print(\"(Hidden):\")\n",
    "            print(f\"Uncertainty_signal (U):\\t {uncertainty_signal}\")\n",
    "            print(f\"Reward_signal (R):\\t {reward_signal}\")\n",
    "            print(f\"New action value (Q):\\t {Q_value}\")\n",
    "            print(f\"Q-table after update for state {state_idx}:\\n\")\n",
    "            print(states_array[state_idx].action_value_lookup)\n",
    "\n",
    "        np.save(\"user_data/user_\" + current_user_ID_str + \"/arrays/\" + save_file + \"_st\" + str(state_idx) + \".npy\", states_array[state_idx].action_value_lookup)\n",
    "\n",
    "        time.sleep(1) # Put here to make UI a bit nicer "
   ]
  },
  {
   "cell_type": "code",
   "execution_count": null,
   "id": "85a1b772-d31a-4608-8b21-a740dcf7859c",
   "metadata": {},
   "outputs": [],
   "source": [
    "%whos"
   ]
  }
 ],
 "metadata": {
  "kernelspec": {
   "display_name": "Python 3 (ipykernel)",
   "language": "python",
   "name": "python3"
  },
  "language_info": {
   "codemirror_mode": {
    "name": "ipython",
    "version": 3
   },
   "file_extension": ".py",
   "mimetype": "text/x-python",
   "name": "python",
   "nbconvert_exporter": "python",
   "pygments_lexer": "ipython3",
   "version": "3.11.0"
  }
 },
 "nbformat": 4,
 "nbformat_minor": 5
}
