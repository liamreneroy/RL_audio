{
 "cells": [
  {
   "cell_type": "markdown",
   "id": "39e04660-cb83-4657-9395-47338c2f1179",
   "metadata": {},
   "source": [
    "## Calcualte the standard deviation \n",
    "\n",
    "This notebook is used to calculate the standard deviation of final q-values for each of our states \n",
    "\n"
   ]
  },
  {
   "cell_type": "markdown",
   "id": "b927e91c-c6a9-4ed6-b6e7-044bda0e8272",
   "metadata": {},
   "source": [
    "## Imports"
   ]
  },
  {
   "cell_type": "code",
   "execution_count": 3,
   "id": "82474ae3-ceca-4405-9f87-da7e4198e453",
   "metadata": {},
   "outputs": [
    {
     "name": "stdout",
     "output_type": "stream",
     "text": [
      "[Errno 2] No such file or directory: '/Users/liamroy/Documents/Studies/Monash_31194990/PHD/repos/RL_audio/notebooks'\n",
      "/home/liamroy/Documents/PHD/repos/RL_audio/notebooks\n"
     ]
    }
   ],
   "source": [
    "# %cd /home/liamroy/Documents/PHD/repos/RL_audio/notebooks\n",
    "\n",
    "%cd /Users/liamroy/Documents/Studies/Monash_31194990/PHD/repos/RL_audio/notebooks\n",
    "\n",
    "# %cd <add your path here and comment out the others>"
   ]
  },
  {
   "cell_type": "code",
   "execution_count": 4,
   "id": "fd998e0a-7253-4cbb-ab84-e1127a9689ba",
   "metadata": {},
   "outputs": [],
   "source": [
    "import numpy as np\n",
    "import matplotlib.pyplot as plt\n",
    "import matplotlib.colors\n",
    "\n",
    "from matplotlib import cm\n",
    "from mpl_toolkits.mplot3d import Axes3D\n",
    "\n",
    "%matplotlib widget\n",
    "# %matplotlib inline\n",
    "# %matplotlib notebook\n",
    "\n",
    "# Try to use this website to use the explode feature, so we can see internal blocks and space everything out\n",
    "# https://terbium.io/2017/12/matplotlib-3d/ \n",
    "\n",
    "# Use this website to make your GIFs - generally 50 delay per frame is good\n",
    "# https://ezgif.com/maker"
   ]
  },
  {
   "cell_type": "code",
   "execution_count": 5,
   "id": "3336deae-74a7-4a72-b957-7e570e689fbf",
   "metadata": {},
   "outputs": [],
   "source": [
    "def explode(data):\n",
    "\tshape_arr = np.array(data.shape)\n",
    "\tsize = shape_arr[:3]*2 - 1\n",
    "\texploded = np.zeros(np.concatenate([size, shape_arr[3:]]), dtype=data.dtype)\n",
    "\texploded[::2, ::2, ::2] = data\n",
    "\treturn exploded\n",
    "\n",
    "def plot_3d_array(vox_array, save_str, title_str, plotter=True):\n",
    "\n",
    "\t# Create the figure\n",
    "\tfig = plt.figure(figsize=(14, 12))\n",
    "\n",
    "\t# Make it a 3D plot\n",
    "\tax = fig.add_subplot(projection='3d')\n",
    "\n",
    "\tplt.title(f\"{title_str}\", size=20, y=0.95)\n",
    "\n",
    "\t\n",
    "\t# Set title, axes and ticks\n",
    "\t# ax.set_title(f\"{title_str}\", size=25)\n",
    "\n",
    "\tax.set_xticks([]) # for minor ticks --> ax.set_xticks([], minor=True)\n",
    "\tax.set_yticks([])\n",
    "\tax.set_zticks([])\n",
    "\n",
    "\tax.set_xlabel('100      -      140      -      180\\n\\nBeat Per Min', size=15)\n",
    "\tax.set_ylabel('1   -  2   -  4\\n\\nBeat Per Loop', size=15)\n",
    "\tax.set_zlabel('Neg   -   Neutral   -   Pos\\n\\nPitch Bend', size=15)\n",
    "\n",
    "\n",
    "\t# Set no grid and desired view angle\n",
    "\tax.grid(False)\n",
    "\tax.view_init(8, 285)\n",
    "\n",
    "\n",
    "\t# Define the colour map\n",
    "\tcmap = plt.get_cmap(\"RdYlGn\")\n",
    "\t# norm= plt.Normalize(vox_array.min(), vox_array.max())\n",
    "\tnorm= plt.Normalize(-10, 10)\n",
    "\n",
    "\n",
    "\t# Creates an array with a 1 at each location of the array where we want a voxel, then explode\n",
    "\tfilled = np.ones_like(vox_array)\n",
    "\tfilled = explode(filled)\n",
    "\n",
    "\t# Create a colourmap & explode\n",
    "\tcolors = cmap(norm(vox_array), alpha=0.85)\n",
    "\tcolors = explode(colors)\n",
    "\t\t\n",
    "\t\t\n",
    "\t# Plot the voxels \n",
    "\tax.voxels(filled, facecolors=colors, edgecolors='black', shade=False)\n",
    "\n",
    "\n",
    "\t# To get the colour bar (note scatter size is set to zero - workaround since no cbar w/ voxels)\n",
    "\tcounter = range(3)\n",
    "\tx,y,z = np.meshgrid(counter, counter, counter)\n",
    "\tscatter_cube = ax.scatter(x,y,z, c=vox_array.flat, cmap=plt.get_cmap(\"RdYlGn\"), s=0, alpha=0.8, linewidths=2, edgecolors=\"black\", vmin=-10, vmax=10)\n",
    "\tcbar = fig.colorbar(scatter_cube, shrink=0.45, orientation=\"vertical\", aspect=8, pad=0.05) # Add a color bar\n",
    "\tcbar.minorticks_off()\n",
    "\tcbar.set_label('\\naction value', rotation=90, size=15)\n",
    "\n",
    "\n",
    "\t# Save the fig\n",
    "\tplt.savefig(save_str, bbox_inches='tight', pad_inches=0.25)\n",
    "\n",
    "\t# Show the fig if plotter is not set to None\n",
    "\tif plotter:\n",
    "\t\tplt.show()\n",
    "\n",
    "\t\n",
    "\tif plotter == None:\n",
    "\t\tprint(\" Plots closed. \")\n",
    "\t\tmatplotlib.pyplot.close()\n"
   ]
  },
  {
   "cell_type": "markdown",
   "id": "576fa7ee-f194-4d65-aaae-4d8a0986a7a3",
   "metadata": {},
   "source": [
    "## Calculate the variance (standard dev)\n",
    "\n",
    "In all we will have\n",
    "- 3 states (stuck, accomplished, progressing)\n",
    "\n",
    "- 3 conditions (2X, 2O, combined)\n",
    "\n",
    "- 27 values per state (3x3x3 matrix)\n",
    "\n",
    "### Run this one to save heaps of photos which capture ALL users :3\n",
    "\n",
    "Plottter saves all as .png files\n"
   ]
  },
  {
   "cell_type": "code",
   "execution_count": null,
   "id": "675bc1ec-c4be-4119-9388-301ec02fdfc3",
   "metadata": {},
   "outputs": [],
   "source": []
  }
 ],
 "metadata": {
  "kernelspec": {
   "display_name": "Python 3 (ipykernel)",
   "language": "python",
   "name": "python3"
  },
  "language_info": {
   "codemirror_mode": {
    "name": "ipython",
    "version": 3
   },
   "file_extension": ".py",
   "mimetype": "text/x-python",
   "name": "python",
   "nbconvert_exporter": "python",
   "pygments_lexer": "ipython3",
   "version": "3.11.0"
  }
 },
 "nbformat": 4,
 "nbformat_minor": 5
}
